{
 "cells": [
  {
   "cell_type": "code",
   "execution_count": 1,
   "id": "e378fc7b",
   "metadata": {},
   "outputs": [
    {
     "name": "stdout",
     "output_type": "stream",
     "text": [
      "Requirement already satisfied: boto3 in c:\\users\\smhrd\\anaconda3\\envs\\deep1\\lib\\site-packages (1.20.38)\n",
      "Requirement already satisfied: s3transfer<0.6.0,>=0.5.0 in c:\\users\\smhrd\\anaconda3\\envs\\deep1\\lib\\site-packages (from boto3) (0.5.0)\n",
      "Requirement already satisfied: botocore<1.24.0,>=1.23.38 in c:\\users\\smhrd\\anaconda3\\envs\\deep1\\lib\\site-packages (from boto3) (1.23.38)\n",
      "Requirement already satisfied: jmespath<1.0.0,>=0.7.1 in c:\\users\\smhrd\\anaconda3\\envs\\deep1\\lib\\site-packages (from boto3) (0.10.0)\n",
      "Requirement already satisfied: urllib3<1.27,>=1.25.4 in c:\\users\\smhrd\\anaconda3\\envs\\deep1\\lib\\site-packages (from botocore<1.24.0,>=1.23.38->boto3) (1.26.7)\n",
      "Requirement already satisfied: python-dateutil<3.0.0,>=2.1 in c:\\users\\smhrd\\anaconda3\\envs\\deep1\\lib\\site-packages (from botocore<1.24.0,>=1.23.38->boto3) (2.8.2)\n",
      "Requirement already satisfied: six>=1.5 in c:\\users\\smhrd\\anaconda3\\envs\\deep1\\lib\\site-packages (from python-dateutil<3.0.0,>=2.1->botocore<1.24.0,>=1.23.38->boto3) (1.16.0)\n"
     ]
    }
   ],
   "source": [
    "!pip3 install boto3"
   ]
  },
  {
   "cell_type": "code",
   "execution_count": 2,
   "id": "37f7547e",
   "metadata": {},
   "outputs": [
    {
     "name": "stdout",
     "output_type": "stream",
     "text": [
      "메인실행됨\n"
     ]
    }
   ],
   "source": [
    "import boto3\n",
    "import json\n",
    "\n",
    "def detect_faces(photo):\n",
    "\n",
    "    client=boto3.client('rekognition')\n",
    "    \n",
    "    with open(photo, 'rb') as image:\n",
    "        response = client.detect_faces(Image={'Bytes': image.read()}, Attributes=['ALL'])\n",
    "    \n",
    "  #  response = client.detect_faces(Image={'S3Object':{'Bucket':bucket,'Name':photo}},Attributes=['ALL'])\n",
    "\n",
    "    print('Detected faces for ' + photo)    \n",
    "    for faceDetail in response['FaceDetails']:\n",
    "        print('The detected face is between ' + str(faceDetail['AgeRange']['Low']) \n",
    "              + ' and ' + str(faceDetail['AgeRange']['High']) + ' years old')\n",
    "       \n",
    "        \n",
    "        \n",
    "   #     print('Here are the other attributes:')\n",
    "   #     print(json.dumps(faceDetail, indent=4, sort_keys=True))\n",
    "\n",
    "\t\t# Access predictions for individual face details and print them\n",
    "        print(\"Gender: \" + str(faceDetail['Gender']))\n",
    "        print(\"Smile: \" + str(faceDetail['Smile']))\n",
    "        print(\"Eyeglasses: \" + str(faceDetail['Eyeglasses']))\n",
    "        print(\"Emotions: \" + str(faceDetail['Emotions'][0]))\n",
    "        \n",
    "        age = faceDetail['AgeRange']['High'] + faceDetail['AgeRange']['Low']/2\n",
    "        gender = faceDetail['Gender']['Value']\n",
    "        emotion = faceDetail['Emotions'][0]['Type']\n",
    "        \n",
    "        result = age, gender, emotion\n",
    "\n",
    "    return result\n",
    "def main():\n",
    "    photo='sungsu2.jpg'\n",
    " #   face_count=detect_faces(photo)\n",
    " #   print(\"Faces detected: \" + str(face_count))\n",
    "    print('메인실행됨')\n",
    "\n",
    "\n",
    "if __name__ == \"__main__\":\n",
    "    main()"
   ]
  },
  {
   "cell_type": "code",
   "execution_count": 3,
   "id": "09d640b7",
   "metadata": {},
   "outputs": [
    {
     "name": "stdout",
     "output_type": "stream",
     "text": [
      "메인 실행 됨\n"
     ]
    }
   ],
   "source": [
    "#Copyright 2018 Amazon.com, Inc. or its affiliates. All Rights Reserved.\n",
    "#PDX-License-Identifier: MIT-0 (For details, see https://github.com/awsdocs/amazon-rekognition-developer-guide/blob/master/LICENSE-SAMPLECODE.)\n",
    "\n",
    "import boto3\n",
    "\n",
    "def compare_faces(sourceFile, targetFile):\n",
    "\n",
    "    client=boto3.client('rekognition')\n",
    "   \n",
    "    imageSource=open(sourceFile,'rb')\n",
    "    imageTarget=open(targetFile,'rb')\n",
    "\n",
    "    response=client.compare_faces(SimilarityThreshold=0,\n",
    "                                  SourceImage={'Bytes': imageSource.read()},\n",
    "                                  TargetImage={'Bytes': imageTarget.read()})\n",
    "    \n",
    "    for faceMatch in response['FaceMatches']:\n",
    "        position = faceMatch['Face']['BoundingBox']\n",
    "        similarity = str(faceMatch['Similarity'])\n",
    "#         print('The face at ' +\n",
    "#                str(position['Left']) + ' ' +\n",
    "#                str(position['Top']) +\n",
    "#                ' matches with ' + similarity + '% confidence')\n",
    "\n",
    "    imageSource.close()\n",
    "    imageTarget.close()     \n",
    "    return similarity       \n",
    "\n",
    "def main():\n",
    "    source_file='source.jpg'\n",
    "    target_file='target.jpg'\n",
    "#     face_matches=compare_faces(source_file, target_file)\n",
    "#     print(\"Face matches: \" + str(face_matches))\n",
    "    print('메인 실행 됨')\n",
    "\n",
    "\n",
    "if __name__ == \"__main__\":\n",
    "    main()\n",
    "\n",
    "\n"
   ]
  },
  {
   "cell_type": "code",
   "execution_count": 4,
   "id": "55c0c111",
   "metadata": {},
   "outputs": [
    {
     "name": "stdout",
     "output_type": "stream",
     "text": [
      "메인 실행 됨\n"
     ]
    }
   ],
   "source": [
    "#Copyright 2018 Amazon.com, Inc. or its affiliates. All Rights Reserved.\n",
    "#PDX-License-Identifier: MIT-0 (For details, see https://github.com/awsdocs/amazon-rekognition-developer-guide/blob/master/LICENSE-SAMPLECODE.)\n",
    "\n",
    "import boto3\n",
    "import json\n",
    "\n",
    "def recognize_celebrities(photo):\n",
    "\n",
    "    \n",
    "    client=boto3.client('rekognition')\n",
    "\n",
    "    with open(photo, 'rb') as image:\n",
    "        response = client.recognize_celebrities(Image={'Bytes': image.read()})\n",
    "\n",
    "    print('Detected faces for ' + photo)    \n",
    "    for celebrity in response['CelebrityFaces']:\n",
    "#         print ('Name: ' + celebrity['Name'])\n",
    "#         print ('Id: ' + celebrity['Id'])\n",
    "#         print ('KnownGender: ' + celebrity['KnownGender'])\n",
    "#         print ('Smile: ' + celebrity['Smile'])\n",
    "#         print ('Position:')\n",
    "#         print ('   Left: ' + '{:.2f}'.format(celebrity['Face']['BoundingBox']['Height']))\n",
    "#         print ('   Top: ' + '{:.2f}'.format(celebrity['Face']['BoundingBox']['Top']))\n",
    "#         print ('Info')\n",
    "#         for url in celebrity['Urls']:\n",
    "#             print ('   ' + url)\n",
    "#         print\n",
    "        name = celebrity['Name']\n",
    "    if len(response['CelebrityFaces']) == 0:\n",
    "        name = '아이유'\n",
    "  \n",
    "    return name\n",
    "\n",
    "def main():\n",
    "#     photo='moviestars.jpg'\n",
    "\n",
    "#     celeb_count=recognize_celebrities(photo)\n",
    "#     print(\"Celebrities detected: \" + str(celeb_count))\n",
    "    print('메인 실행 됨')\n",
    "\n",
    "\n",
    "if __name__ == \"__main__\":\n",
    "    main()"
   ]
  },
  {
   "cell_type": "code",
   "execution_count": null,
   "id": "d817e042",
   "metadata": {},
   "outputs": [
    {
     "name": "stdout",
     "output_type": "stream",
     "text": [
      " * Serving Flask app '__main__' (lazy loading)\n",
      " * Environment: production\n",
      "\u001b[31m   WARNING: This is a development server. Do not use it in a production deployment.\u001b[0m\n",
      "\u001b[2m   Use a production WSGI server instead.\u001b[0m\n",
      " * Debug mode: off\n"
     ]
    },
    {
     "name": "stderr",
     "output_type": "stream",
     "text": [
      " * Running on http://172.30.1.58:5028/ (Press CTRL+C to quit)\n"
     ]
    }
   ],
   "source": [
    "from flask import Flask, render_template, request, redirect\n",
    "from werkzeug.utils import secure_filename\n",
    "\n",
    "app = Flask(__name__)\n",
    "\n",
    "@app.route('/')\n",
    "def hello():\n",
    "    return render_template('home.html')\n",
    "\n",
    "@app.route('/add', methods=['GET', 'POST'])\n",
    "def add_number():\n",
    "    \n",
    "    if request.method == 'GET':\n",
    "        num1 = request.args['num1']\n",
    "        num2 = request.args['num2']\n",
    "        result = int(num1) + int(num2)\n",
    "    else:\n",
    "        num1 = request.form['num1']\n",
    "        num2 = request.form['num2']\n",
    "        result = int(num1) + int(num2)\n",
    "        \n",
    "    return '두 수의 합은 {}입니다'.format(result)\n",
    "\n",
    "@app.route('/move', methods=['GET', 'POST'])\n",
    "def move():\n",
    "    \n",
    "    if request.method == 'GET':\n",
    "        url = 'https://'\n",
    "        url += request.args['url']\n",
    "        # 만약, url이 https://www.naver.com\n",
    "        return redirect(url)\n",
    "    \n",
    "    return '주소 없음'\n",
    "    \n",
    "@app.route('/detect', methods=['GET', 'POST'])\n",
    "def detect():\n",
    "    \n",
    "    if request.method == 'POST':\n",
    "        f = request.files['file']\n",
    "        f.save(secure_filename(f.filename))\n",
    "        \n",
    "        photo = f.filename\n",
    "        age, gender, emotion = detect_faces(photo)\n",
    "       \n",
    "        \n",
    "    return '나이 : {}세 / 성별 : {} / 가장 높은 감정 : {}'.format(age,gender,emotion)\n",
    "    \n",
    "@app.route('/compare', methods=['GET', 'POST'])\n",
    "def compare():\n",
    "    if request.method == 'POST':\n",
    "        f = request.files['file']\n",
    "        f.save(secure_filename(f.filename))\n",
    "        \n",
    "        source = f.filename\n",
    "        target = 'target.jpg'\n",
    "        similarity = compare_faces(source, target)\n",
    "        \n",
    "    return '본인일 확률은 {}%입니다.'.format(similarity)\n",
    "\n",
    "@app.route('/celeb',methods=['GET', 'POST'] )\n",
    "def celeb():\n",
    "    \n",
    "     if request.method == 'POST':\n",
    "        f = request.files['file']\n",
    "        f.save(secure_filename(f.filename))\n",
    "        \n",
    "        photo = f.filename\n",
    "        name = recognize_celebrities(photo)\n",
    "     return '닮은 연예인은 {}입니다.'.format(name)\n",
    "    \n",
    "if __name__ == '__main__':\n",
    "    app.run('172.30.1.58',5028)\n",
    "    \n",
    "    "
   ]
  },
  {
   "cell_type": "code",
   "execution_count": null,
   "id": "0121ec20",
   "metadata": {
    "scrolled": false
   },
   "outputs": [],
   "source": [
    "import calculator\n",
    "\n",
    "print(calculator.add(5,3))\n",
    "print(calculator.sun(5,3))\n",
    "print(calculator.mul(5,3))\n",
    "print(calculator.div(5,3))"
   ]
  }
 ],
 "metadata": {
  "kernelspec": {
   "display_name": "Python 3 (ipykernel)",
   "language": "python",
   "name": "python3"
  },
  "language_info": {
   "codemirror_mode": {
    "name": "ipython",
    "version": 3
   },
   "file_extension": ".py",
   "mimetype": "text/x-python",
   "name": "python",
   "nbconvert_exporter": "python",
   "pygments_lexer": "ipython3",
   "version": "3.7.11"
  }
 },
 "nbformat": 4,
 "nbformat_minor": 5
}
