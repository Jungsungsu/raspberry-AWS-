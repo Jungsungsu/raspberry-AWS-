{
 "cells": [
  {
   "cell_type": "markdown",
   "id": "fb9c9dea",
   "metadata": {},
   "source": [
    "# Flask"
   ]
  },
  {
   "cell_type": "code",
   "execution_count": 1,
   "id": "44fcef7f",
   "metadata": {},
   "outputs": [
    {
     "name": "stdout",
     "output_type": "stream",
     "text": [
      "Requirement already satisfied: flask in c:\\users\\smhrd\\anaconda3\\envs\\deep1\\lib\\site-packages (2.0.2)\n",
      "Requirement already satisfied: click>=7.1.2 in c:\\users\\smhrd\\anaconda3\\envs\\deep1\\lib\\site-packages (from flask) (8.0.3)\n",
      "Requirement already satisfied: Werkzeug>=2.0 in c:\\users\\smhrd\\anaconda3\\envs\\deep1\\lib\\site-packages (from flask) (2.0.2)\n",
      "Requirement already satisfied: itsdangerous>=2.0 in c:\\users\\smhrd\\anaconda3\\envs\\deep1\\lib\\site-packages (from flask) (2.0.1)\n",
      "Requirement already satisfied: Jinja2>=3.0 in c:\\users\\smhrd\\anaconda3\\envs\\deep1\\lib\\site-packages (from flask) (3.0.2)\n",
      "Requirement already satisfied: colorama in c:\\users\\smhrd\\anaconda3\\envs\\deep1\\lib\\site-packages (from click>=7.1.2->flask) (0.4.4)\n",
      "Requirement already satisfied: importlib-metadata in c:\\users\\smhrd\\anaconda3\\envs\\deep1\\lib\\site-packages (from click>=7.1.2->flask) (4.8.2)\n",
      "Requirement already satisfied: MarkupSafe>=2.0 in c:\\users\\smhrd\\anaconda3\\envs\\deep1\\lib\\site-packages (from Jinja2>=3.0->flask) (2.0.1)\n",
      "Requirement already satisfied: typing-extensions>=3.6.4 in c:\\users\\smhrd\\anaconda3\\envs\\deep1\\lib\\site-packages (from importlib-metadata->click>=7.1.2->flask) (3.10.0.2)\n",
      "Requirement already satisfied: zipp>=0.5 in c:\\users\\smhrd\\anaconda3\\envs\\deep1\\lib\\site-packages (from importlib-metadata->click>=7.1.2->flask) (3.7.0)\n"
     ]
    }
   ],
   "source": [
    "!pip3 install flask"
   ]
  },
  {
   "cell_type": "code",
   "execution_count": null,
   "id": "e89c7ad2",
   "metadata": {},
   "outputs": [
    {
     "name": "stdout",
     "output_type": "stream",
     "text": [
      " * Serving Flask app '__main__' (lazy loading)\n",
      " * Environment: production\n",
      "\u001b[31m   WARNING: This is a development server. Do not use it in a production deployment.\u001b[0m\n",
      "\u001b[2m   Use a production WSGI server instead.\u001b[0m\n",
      " * Debug mode: off\n"
     ]
    },
    {
     "name": "stderr",
     "output_type": "stream",
     "text": [
      " * Running on http://172.30.1.58:5028/ (Press CTRL+C to quit)\n",
      "172.30.1.58 - - [19/Jan/2022 17:58:31] \"GET / HTTP/1.1\" 200 -\n"
     ]
    }
   ],
   "source": [
    "from flask import Flask\n",
    "from flask import render_template\n",
    "\n",
    "\n",
    "app = Flask(__name__)\n",
    "\n",
    "@app.route('/')\n",
    "def hello():\n",
    "    return render_template('main.html')\n",
    "    \n",
    "\n",
    "if __name__ == '__main__':\n",
    "    app.run(host='172.30.1.58', port=5028)\n"
   ]
  },
  {
   "cell_type": "code",
   "execution_count": null,
   "id": "4115a883",
   "metadata": {},
   "outputs": [],
   "source": []
  },
  {
   "cell_type": "code",
   "execution_count": null,
   "id": "6d7a1c0f",
   "metadata": {},
   "outputs": [],
   "source": []
  },
  {
   "cell_type": "code",
   "execution_count": null,
   "id": "0e0467ec",
   "metadata": {},
   "outputs": [],
   "source": []
  },
  {
   "cell_type": "code",
   "execution_count": null,
   "id": "5bba305a",
   "metadata": {},
   "outputs": [],
   "source": []
  }
 ],
 "metadata": {
  "kernelspec": {
   "display_name": "Python 3 (ipykernel)",
   "language": "python",
   "name": "python3"
  },
  "language_info": {
   "codemirror_mode": {
    "name": "ipython",
    "version": 3
   },
   "file_extension": ".py",
   "mimetype": "text/x-python",
   "name": "python",
   "nbconvert_exporter": "python",
   "pygments_lexer": "ipython3",
   "version": "3.7.11"
  }
 },
 "nbformat": 4,
 "nbformat_minor": 5
}
