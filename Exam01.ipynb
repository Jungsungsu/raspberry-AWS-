{
 "cells": [
  {
   "cell_type": "code",
   "execution_count": 1,
   "id": "aa0ca796",
   "metadata": {},
   "outputs": [
    {
     "name": "stdout",
     "output_type": "stream",
     "text": [
      "Requirement already satisfied: boto3 in c:\\users\\smhrd\\anaconda3\\envs\\deep1\\lib\\site-packages (1.20.38)\n",
      "Requirement already satisfied: jmespath<1.0.0,>=0.7.1 in c:\\users\\smhrd\\anaconda3\\envs\\deep1\\lib\\site-packages (from boto3) (0.10.0)\n",
      "Requirement already satisfied: s3transfer<0.6.0,>=0.5.0 in c:\\users\\smhrd\\anaconda3\\envs\\deep1\\lib\\site-packages (from boto3) (0.5.0)\n",
      "Requirement already satisfied: botocore<1.24.0,>=1.23.38 in c:\\users\\smhrd\\anaconda3\\envs\\deep1\\lib\\site-packages (from boto3) (1.23.38)\n",
      "Requirement already satisfied: python-dateutil<3.0.0,>=2.1 in c:\\users\\smhrd\\anaconda3\\envs\\deep1\\lib\\site-packages (from botocore<1.24.0,>=1.23.38->boto3) (2.8.2)\n",
      "Requirement already satisfied: urllib3<1.27,>=1.25.4 in c:\\users\\smhrd\\anaconda3\\envs\\deep1\\lib\\site-packages (from botocore<1.24.0,>=1.23.38->boto3) (1.26.7)\n",
      "Requirement already satisfied: six>=1.5 in c:\\users\\smhrd\\anaconda3\\envs\\deep1\\lib\\site-packages (from python-dateutil<3.0.0,>=2.1->botocore<1.24.0,>=1.23.38->boto3) (1.16.0)\n"
     ]
    }
   ],
   "source": [
    "!pip3 install boto3"
   ]
  },
  {
   "cell_type": "markdown",
   "id": "d6528132",
   "metadata": {},
   "source": [
    "# Object detecting with local images"
   ]
  },
  {
   "cell_type": "markdown",
   "id": "1a25f660",
   "metadata": {},
   "source": [
    "### sample code\n",
    "### AWS Developer Guide에서 샘플 코드를 가져오자!!"
   ]
  },
  {
   "cell_type": "code",
   "execution_count": 20,
   "id": "2ca4a441",
   "metadata": {},
   "outputs": [
    {
     "name": "stdout",
     "output_type": "stream",
     "text": [
      "Detected labels in input2.jpg\n",
      "강아지가 아닙니다.\n",
      "Labels detected: 9\n"
     ]
    }
   ],
   "source": [
    "import boto3\n",
    "\n",
    "def detect_labels_local_file(photo):\n",
    "\n",
    "\n",
    "    client=boto3.client('rekognition')\n",
    "   \n",
    "    with open(photo, 'rb') as image:\n",
    "        response = client.detect_labels(Image={'Bytes': image.read()})\n",
    " #      print(response)\n",
    "    print('Detected labels in ' + photo)    \n",
    "    \n",
    "    check = True\n",
    "    \n",
    "    for label in response['Labels']:\n",
    "        \n",
    "        if label['Name'] == 'Dog' :\n",
    "            print('강아지일 확률은 {:.2f}%입니다.'.format(label['Confidence']))\n",
    "            check=False\n",
    "            \n",
    "            \n",
    " #       print (label['Name'] + ' : ' + str(label['Confidence']))\n",
    "    \n",
    "    if check == True:\n",
    "        print('강아지가 아닙니다.')\n",
    "    \n",
    "    return len(response['Labels'])\n",
    "\n",
    "def main():\n",
    "    photo='input2.jpg'\n",
    "\n",
    "    label_count=detect_labels_local_file(photo)\n",
    "    print(\"Labels detected: \" + str(label_count))\n",
    "\n",
    "if __name__ == \"__main__\":\n",
    "    main()"
   ]
  },
  {
   "cell_type": "markdown",
   "id": "7225d00b",
   "metadata": {},
   "source": [
    "# S3 bucket을 활용한 얼굴 분석"
   ]
  },
  {
   "cell_type": "code",
   "execution_count": 34,
   "id": "e98a7e87",
   "metadata": {},
   "outputs": [
    {
     "name": "stdout",
     "output_type": "stream",
     "text": [
      "Detected faces for 윈터.jpg\n",
      "The detected face is between 10 and 18 years old\n",
      "Gender: {'Value': 'Female', 'Confidence': 99.99832153320312}\n",
      "제일 높은 감정은 {'Type': 'CALM', 'Confidence': 77.12503814697266}입니다.\n",
      "Faces detected: 1\n"
     ]
    }
   ],
   "source": [
    "import boto3\n",
    "import json\n",
    "\n",
    "def detect_faces(photo, bucket):\n",
    "\n",
    "    client=boto3.client('rekognition')\n",
    "\n",
    "    response = client.detect_faces(Image={'S3Object':{'Bucket':bucket,'Name':photo}},Attributes=['ALL'])\n",
    "\n",
    "    print('Detected faces for ' + photo)    \n",
    "    for faceDetail in response['FaceDetails']:\n",
    "        print('The detected face is between ' + str(faceDetail['AgeRange']['Low']) \n",
    "              + ' and ' + str(faceDetail['AgeRange']['High']) + ' years old')\n",
    "\n",
    "  #      print('Here are the other attributes:')\n",
    "  #      print(json.dumps(faceDetail, indent=4, sort_keys=True))\n",
    "\n",
    "\t\t# Access predictions for individual face details and print them\n",
    "        print\n",
    "        print(\"Gender: \" + str(faceDetail['Gender']))\n",
    "        print(\"제일 높은 감정은 \" + str(faceDetail['Emotions'][0]) + \"입니다.\")\n",
    "\n",
    "    return len(response['FaceDetails'])\n",
    "def main():\n",
    "    photo='윈터.jpg'\n",
    "    bucket='bigdata7'\n",
    "    face_count=detect_faces(photo, bucket)\n",
    "    print(\"Faces detected: \" + str(face_count))\n",
    "\n",
    "\n",
    "if __name__ == \"__main__\":\n",
    "    main()"
   ]
  },
  {
   "cell_type": "code",
   "execution_count": 40,
   "id": "6b965e22",
   "metadata": {},
   "outputs": [
    {
     "name": "stdout",
     "output_type": "stream",
     "text": [
      "Detected faces for 윈터.jpg\n",
      "나이는 14세입니다.\n",
      "여성일 확률이 100.00%입니다.\n",
      "제일 높은 감정은 CALM입니다.\n",
      "Gender: {'Value': 'Female', 'Confidence': 99.99832153320312}\n",
      "Smile: {'Value': False, 'Confidence': 98.0081787109375}\n",
      "Eyeglasses: {'Value': False, 'Confidence': 99.47786712646484}\n",
      "Emotions: {'Type': 'CALM', 'Confidence': 77.12503814697266}\n",
      "Faces detected: 1\n"
     ]
    }
   ],
   "source": [
    "import boto3\n",
    "import json\n",
    "\n",
    "def detect_faces(photo, bucket):\n",
    "\n",
    "    client=boto3.client('rekognition')\n",
    "\n",
    "    response = client.detect_faces(Image={'S3Object':{'Bucket':bucket,'Name':photo}},Attributes=['ALL'])\n",
    "\n",
    "    print('Detected faces for ' + photo)    \n",
    "    for faceDetail in response['FaceDetails']:\n",
    "  #      print('The detected face is between ' + str(faceDetail['AgeRange']['Low']) \n",
    "  #            + ' and ' + str(faceDetail['AgeRange']['High']) + ' years old')\n",
    "    \n",
    "  #      print('Here are the other attributes:')\n",
    "  #      print(json.dumps(faceDetail, indent=4, sort_keys=True))\n",
    "\n",
    "  # Access predictions for individual face details and print them\n",
    "        \n",
    "        age = (faceDetail['AgeRange']['High'] + faceDetail['AgeRange']['Low']) / 2\n",
    "        print('나이는 {:.0f}세입니다.'.format(age))\n",
    "        \n",
    "        if faceDetail['Gender']['Value'] == 'Female':\n",
    "            print('여성일 확률이 {:.2f}%입니다.'.format(faceDetail['Gender']['Confidence']))\n",
    "        else:\n",
    "            print('남성일 확률이 {:.2f}%입니다.'.format(faceDetail['Gender']['Confidence']))\n",
    "        \n",
    "        print('제일 높은 감정은 {}입니다.'.format(faceDetail['Emotions'][0]['Type']))\n",
    "\n",
    "\t\t# Access predictions for individual face details and print them\n",
    "        print(\"Gender: \" + str(faceDetail['Gender']))\n",
    "        print(\"Smile: \" + str(faceDetail['Smile']))\n",
    "        print(\"Eyeglasses: \" + str(faceDetail['Eyeglasses']))\n",
    "        print(\"Emotions: \" + str(faceDetail['Emotions'][0]))\n",
    "        \n",
    "        \n",
    "        \n",
    "        \n",
    "\n",
    "    return len(response['FaceDetails'])\n",
    "def main():\n",
    "    photo='윈터.jpg'\n",
    "    bucket='bigdata7'\n",
    "    face_count=detect_faces(photo, bucket)\n",
    "    print(\"Faces detected: \" + str(face_count))\n",
    "\n",
    "\n",
    "if __name__ == \"__main__\":\n",
    "    main()"
   ]
  },
  {
   "cell_type": "markdown",
   "id": "561bbeb2",
   "metadata": {},
   "source": [
    "# Python으로 S3 bucket에 이미지를 업로드"
   ]
  },
  {
   "cell_type": "code",
   "execution_count": 42,
   "id": "b2024b6f",
   "metadata": {},
   "outputs": [],
   "source": [
    "import boto3 # S3 클라이언트 생성.\n",
    "s3 = boto3.client('s3')\n",
    "\n",
    "# 업로드할 파일의 이름\n",
    "filename = '윈터.jpg'\n",
    "\n",
    "# 업로드할 S3 버킷\n",
    "bucket_name = 'bigdata7'\n",
    "\n",
    "# 첫본째 매개변수 : 로컬에서 올릴 파일이름\n",
    "# 두번째 매개변수 : S3 버킷 이름\n",
    "# 세번째 매개변수 : 버킷에 저장될 파일 이름.\n",
    "\n",
    "s3.upload_file(filename, bucket_name, filename)"
   ]
  }
 ],
 "metadata": {
  "kernelspec": {
   "display_name": "Python 3 (ipykernel)",
   "language": "python",
   "name": "python3"
  },
  "language_info": {
   "codemirror_mode": {
    "name": "ipython",
    "version": 3
   },
   "file_extension": ".py",
   "mimetype": "text/x-python",
   "name": "python",
   "nbconvert_exporter": "python",
   "pygments_lexer": "ipython3",
   "version": "3.7.11"
  }
 },
 "nbformat": 4,
 "nbformat_minor": 5
}
